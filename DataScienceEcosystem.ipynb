{
 "cells": [
  {
   "cell_type": "markdown",
   "id": "f570f6f4-0ce9-4376-9413-fab68e25ddbe",
   "metadata": {},
   "source": [
    "___Exercise 1: Create a Jupyter Notebook___"
   ]
  },
  {
   "cell_type": "markdown",
   "id": "1e73bebd-2c7b-4878-a30a-e6a26bf21c1c",
   "metadata": {},
   "source": [
    "# A new notebook was created"
   ]
  },
  {
   "cell_type": "markdown",
   "id": "bd9934e3-d957-4605-85a3-f57b5379bf70",
   "metadata": {},
   "source": [
    "__Exercise 2: Create markdown cell with title of the notebook__"
   ]
  },
  {
   "cell_type": "markdown",
   "id": "256fad3b-686b-42c5-bf95-6a3ff8fde96d",
   "metadata": {},
   "source": [
    "# Data Science Tools and Ecosystem"
   ]
  },
  {
   "cell_type": "markdown",
   "id": "fe33cce6-4b9b-4433-85db-574620c8d4a7",
   "metadata": {},
   "source": [
    "__Exercise 3 - Create a markdown cell for an introduction__"
   ]
  },
  {
   "cell_type": "markdown",
   "id": "06d4dd09-6886-4e97-90c9-2c0232d976a3",
   "metadata": {},
   "source": [
    "## Introduction\n",
    "__In this notebook, Data Science Tools and Ecosystem are summarised.__"
   ]
  },
  {
   "cell_type": "markdown",
   "id": "3c9a5d91-07e9-449f-a380-24578ad91c06",
   "metadata": {},
   "source": [
    "__Objectives__\n",
    "* List popular languages for Data Science.\n",
    "* List of commonly used libraries for data science.\n",
    "* Drawing a table.\n",
    "* Using a code cell as a calculator."
   ]
  },
  {
   "cell_type": "markdown",
   "id": "971fdb9c-0a47-4cc0-b67d-e425a7542957",
   "metadata": {},
   "source": [
    "___Exercise 4 - Create a markdown cell to list data science languages___"
   ]
  },
  {
   "cell_type": "markdown",
   "id": "67e9c96a-d340-4a80-825e-e8ff46d53165",
   "metadata": {
    "jp-MarkdownHeadingCollapsed": true
   },
   "source": [
    "__Some of the popular languages that Data Scientists use are:__\n",
    "1. Python\n",
    "2. R\n",
    "3. SQL"
   ]
  },
  {
   "cell_type": "markdown",
   "id": "adbd38cb-c969-4f4f-9d57-b36e3ae2eed5",
   "metadata": {},
   "source": [
    "___Exercise 5 - Create a markdown cell to list data science libraries___"
   ]
  },
  {
   "cell_type": "markdown",
   "id": "c6dd814d-e33e-4867-b763-13199c8b4e94",
   "metadata": {},
   "source": [
    "__Some of the commonly used libraries used by Data Scientists include:__<br>\n",
    "* <u>R libraries</u>\n",
    "1. ggplot\n",
    "2. caret<br>\n",
    "* <u>Python libraries</u>\n",
    "4. Pandas\n",
    "5. NumPy\n",
    "6. Seaborn\n",
    "7. Matplotlib\n",
    "8. Scikit-Learn"
   ]
  },
  {
   "cell_type": "markdown",
   "id": "a1d24b86-835b-45a7-b85f-70aaa750e5a4",
   "metadata": {},
   "source": [
    "___Exercise 6 - Create a markdown cell with a table of Data Science tools___"
   ]
  },
  {
   "cell_type": "markdown",
   "id": "5e0e1a28-4497-44d9-850b-009111a08db3",
   "metadata": {},
   "source": [
    "| Data Science Tools|\n",
    "| --- |\n",
    "| R-Studio |\n",
    "| Jupyter Notebook |\n",
    "| Apache Zeppelin |\n",
    "\n"
   ]
  },
  {
   "cell_type": "markdown",
   "id": "76c99096-e0f9-4caa-b886-b5bb6405409f",
   "metadata": {},
   "source": [
    "___Exercise 7 - Create a markdown cell introducing arithmetic expression examples___"
   ]
  },
  {
   "cell_type": "markdown",
   "id": "25a0955c-04a3-450a-85af-03b8bb84dc31",
   "metadata": {},
   "source": [
    "### Below are a few examples of evaluating arithmetic expressions in Python"
   ]
  },
  {
   "cell_type": "markdown",
   "id": "c1079893-0e8d-48eb-b151-1c82d7e01ec7",
   "metadata": {},
   "source": [
    "___Exercise 8 - Create a code cell to multiply and add numbers___"
   ]
  },
  {
   "cell_type": "code",
   "execution_count": 15,
   "id": "65c1bef3-30f7-4fae-8edc-38cda79f0456",
   "metadata": {},
   "outputs": [
    {
     "data": {
      "text/plain": [
       "17"
      ]
     },
     "execution_count": 15,
     "metadata": {},
     "output_type": "execute_result"
    }
   ],
   "source": [
    "#  This a simple arithmetic expression to mutiply then add integers\n",
    "\n",
    "(3 * 4) + 5\n"
   ]
  },
  {
   "cell_type": "markdown",
   "id": "8741ea49-ef42-41d3-bc2c-1d95524d96c6",
   "metadata": {},
   "source": [
    "___Exercise 9 - Create a code cell to convert minutes to hours___"
   ]
  },
  {
   "cell_type": "code",
   "execution_count": 8,
   "id": "a3fd9c2f-a9c4-4af5-bfbe-d6557661bdf9",
   "metadata": {},
   "outputs": [
    {
     "name": "stdout",
     "output_type": "stream",
     "text": [
      "200 minutes converts to: 3.3333333333333335 hours\n"
     ]
    }
   ],
   "source": [
    "# This will convert 200 minutes to hours by diving by 60.\n",
    "\n",
    "minutes = 200\n",
    "convfactor = 60\n",
    "hours = minutes / convfactor\n",
    "print('200 minutes converts to:', hours, 'hours' )\n"
   ]
  },
  {
   "cell_type": "markdown",
   "id": "874bf22f-36b6-4aa5-a75b-7b9ffcdb580a",
   "metadata": {},
   "source": [
    "__Exercise 10 - Insert a markdown cell to list Objectives___"
   ]
  },
  {
   "cell_type": "markdown",
   "id": "a9fb8cf4-9052-45c1-953f-f66d2bbe6c5a",
   "metadata": {},
   "source": [
    "Below the introduction cell created in Exercise 3, insert a new markdown cell to list the objectives that this notebook covered (i.e. some of the key takeaways from the course). In this new cell start with an introductory line titled: Objectives: in bold font. Then using an unordered list (bullets) indicate 3 to 5 items covered in this notebook, such as List popular languages for Data Science.\r\n",
    "Take a screenshot of the markdown cell and name it as 10-objectives.pn.ed"
   ]
  },
  {
   "cell_type": "markdown",
   "id": "65404918-82be-4b76-9554-4676d891aa22",
   "metadata": {},
   "source": [
    "___Exercise 11 - Create a markdown cell to indicate the Author's name___"
   ]
  },
  {
   "cell_type": "markdown",
   "id": "c2b4f4bb-1c03-413d-a304-77a10e7768b4",
   "metadata": {},
   "source": [
    "## Author\n",
    "Mokone J. Roberts"
   ]
  },
  {
   "cell_type": "markdown",
   "id": "2dd29e27-ac43-45f4-8eea-b34b2707d084",
   "metadata": {},
   "source": [
    "___Exercise 12 - Share your notebook through GitHub___\r\n",
    "\r\n",
    "Upload your notebook to a public respository on GitHub.\r\n",
    "\r\n",
    "Note : Please keep the GitHub repo link of the notebook handy.\r\n",
    "You will need to submit this link as a part of the assignment evaluation.\r\n",
    "\r\n",
    "Hint: Refer to Lab: Working with files in Jupyter Notebooks to download the notebook from SN Labs."
   ]
  },
  {
   "cell_type": "markdown",
   "id": "21809f4b-29bf-4afd-a08d-658b5ed01df6",
   "metadata": {},
   "source": [
    "___Exercise 13 -Take a screenshot of the first page of the notebook and save it as 1-notebook.png___\n",
    "\n",
    "\r\n",
    "Refer to Hands-on Lab: Getting Started with GitHub to upload the downloaded notebook to GitHub.\r\n",
    "\r\n",
    "Congratulations on completing this project. In a subsequent item in the course you will submit a link to your notebook on GitHub and evaluate your peers."
   ]
  },
  {
   "cell_type": "code",
   "execution_count": null,
   "id": "7e378e3c-f186-4791-a1f6-e41728650e05",
   "metadata": {},
   "outputs": [],
   "source": []
  }
 ],
 "metadata": {
  "kernelspec": {
   "display_name": "Python 3 (ipykernel)",
   "language": "python",
   "name": "python3"
  },
  "language_info": {
   "codemirror_mode": {
    "name": "ipython",
    "version": 3
   },
   "file_extension": ".py",
   "mimetype": "text/x-python",
   "name": "python",
   "nbconvert_exporter": "python",
   "pygments_lexer": "ipython3",
   "version": "3.11.7"
  }
 },
 "nbformat": 4,
 "nbformat_minor": 5
}
